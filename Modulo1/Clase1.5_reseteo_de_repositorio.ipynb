{
 "cells": [
  {
   "cell_type": "markdown",
   "id": "6ca27242-6c09-43c2-b253-526374c15ac2",
   "metadata": {},
   "source": [
    "# Reseteo de repositorio\n",
    "- Mac abriran terminal (command + espacio, buscan terminal) y Windows abriran Command Prompt o PowerShell en menú de inicio\n",
    "- Pondrán los siguientes comandos\n",
    "\n",
    "cd [carpeta del proyecto]\n",
    "\n",
    "git remote add upstream [URL de tu repositorio en main]\n",
    "\n",
    "git fetch upstream\n",
    "\n",
    "git checkout main\n",
    "\n",
    "git reset --hard upstream/main"
   ]
  },
  {
   "cell_type": "code",
   "execution_count": null,
   "id": "0d4c1dac-b8ca-4646-b84f-516476c3de89",
   "metadata": {},
   "outputs": [],
   "source": []
  }
 ],
 "metadata": {
  "kernelspec": {
   "display_name": "Python 3 (ipykernel)",
   "language": "python",
   "name": "python3"
  },
  "language_info": {
   "codemirror_mode": {
    "name": "ipython",
    "version": 3
   },
   "file_extension": ".py",
   "mimetype": "text/x-python",
   "name": "python",
   "nbconvert_exporter": "python",
   "pygments_lexer": "ipython3",
   "version": "3.11.5"
  }
 },
 "nbformat": 4,
 "nbformat_minor": 5
}
